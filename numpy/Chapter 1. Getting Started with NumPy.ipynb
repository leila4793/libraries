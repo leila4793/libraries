{
 "cells": [
  {
   "cell_type": "markdown",
   "id": "9ee82eb6-5c6b-4a2f-b8ff-744ade4b8ecf",
   "metadata": {},
   "source": [
    "__contents:__\n",
    "\n",
    "1. [Installing NumPy, Matplotlib, SciPy, and IPython on Windows](#install)\n",
    "2. [NumPy arrays](#NumPyArrays)\n",
    "   - 2.1. [Adding arrays](#AddingArrays)"
   ]
  },
  {
   "cell_type": "markdown",
   "id": "de4b3faf-d0d5-4a8d-8258-b13a45b1cfdb",
   "metadata": {},
   "source": [
    "# <h2 style=\"color: blue;\"> 1.Installing NumPy, Matplotlib, SciPy, and IPython on Windows <a id='install'></a></h2>"
   ]
  },
  {
   "cell_type": "markdown",
   "id": "ed1d3500-a63f-4193-987f-3781716e0c46",
   "metadata": {},
   "source": [
    "<font color='#808080'>\n",
    "\n",
    "If you use pip, you can install ```NumPy``` with:\n",
    "```python\n",
    "pip install numpy \n",
    "```\n",
    "If you use __conda__, you can install NumPy from the defaults or __conda-forge__ channels:\n",
    "```python\n",
    "# If you want to install from conda-forge\n",
    "conda config --env --add channels conda-forge\n",
    "# The actual install command\n",
    "conda install numpy\n",
    "```\n",
    "If you use pip, you can install ```matplotlib``` with:\n",
    "```python\n",
    "python -m pip install -U matplotlib\n",
    "```\n",
    "Matplotlib is available both via the anaconda main channel:\n",
    "```python\n",
    "conda install matplotlib\n",
    "```\n",
    "as well as via the conda-forge community channel\n",
    "```python\n",
    "conda install -c conda-forge matplotlib\n",
    "```\n",
    "Install ```SciPy```, using pip:\n",
    "```python\n",
    "python -m pip install scipy\n",
    "```\n",
    "After creating an environment, you can install SciPy from conda-forge as follows:\n",
    "```python\n",
    "conda install scipy # or\n",
    "mamba install scipy\n",
    "```\n",
    "you can get ```IPython``` with pip:\n",
    "```python\n",
    "pip install ipython\n",
    "```\n",
    "Anaconda:\n",
    "```python\n",
    "conda update conda\n",
    "conda update ipython\n",
    "```"
   ]
  },
  {
   "cell_type": "markdown",
   "id": "7e2f948e-6b27-4f88-8ba7-13d0d54161be",
   "metadata": {},
   "source": [
    "# <h2 style=\"color: blue;\"> 2.NumPy arrays <a id='NumPyArrays'></a></h2>"
   ]
  },
  {
   "cell_type": "markdown",
   "id": "3fa22f09-b052-4664-82c5-d522967e3284",
   "metadata": {},
   "source": [
    "<font color='#808080'>\n",
    "\n",
    "NumPy arrays are more efficient than Python lists when it comes to numerical operations. NumPy arrays are in fact specialized objects with extensive optimizations. NumPy code requires less explicit loops than the equivalent Python code. This is based on vectorization. "
   ]
  },
  {
   "cell_type": "markdown",
   "id": "5be6c4af-0b15-433f-8fa8-687a7f5b30e5",
   "metadata": {},
   "source": [
    "## <h2 style=\"color: blue;\"> 2.1.Adding arrays <a id='AddingArrays'></a></h2>"
   ]
  },
  {
   "cell_type": "markdown",
   "id": "fc8bc21d-75e0-4223-b3f5-98071cdbddc6",
   "metadata": {},
   "source": [
    "<font color='#808080'>\n",
    "\n",
    "__example1 :__ Imagine that we want to add two vectors called $a$ and $b$. The vector $a$ holds the squares of integers $0$ to $n$. The vector $b$ holds the cubes of integers $0$ to $n$. How would you do that using plain Python?\n",
    "\n",
    "__answer1__ : solves the vector addition problem using pure Python __without NumPy__:"
   ]
  },
  {
   "cell_type": "code",
   "execution_count": 7,
   "id": "2105e55a-8518-4ff9-92b5-31d659ea2e83",
   "metadata": {},
   "outputs": [],
   "source": [
    "def pythonsum(n):\n",
    "    a = list(range(n))\n",
    "    b = list(range(n))\n",
    "    c = []\n",
    "\n",
    "    for i in range(len(a)):\n",
    "        a[i] = i ** 2\n",
    "        b[i] = i ** 3\n",
    "        c.append(a[i] + b[i])\n",
    "\n",
    "    return c"
   ]
  },
  {
   "cell_type": "code",
   "execution_count": 9,
   "id": "8a1f2a84-dda0-4485-9bf7-6107f71bde74",
   "metadata": {},
   "outputs": [
    {
     "data": {
      "text/plain": [
       "[0, 2, 12]"
      ]
     },
     "execution_count": 9,
     "metadata": {},
     "output_type": "execute_result"
    }
   ],
   "source": [
    "pythonsum(3)"
   ]
  },
  {
   "cell_type": "markdown",
   "id": "0651faeb-de48-465b-bdd9-7b7ba1e32d02",
   "metadata": {},
   "source": [
    "<font color='#808080'>\n",
    "    \n",
    "__answer 2__ :The following is a function that achieves the same with NumPy:"
   ]
  },
  {
   "cell_type": "code",
   "execution_count": 10,
   "id": "deca4f32-3b4a-4d1d-9395-5de9d1b63761",
   "metadata": {},
   "outputs": [],
   "source": [
    "import numpy as np\n",
    "def numpysum(n):\n",
    "  a = np.arange(n) ** 2\n",
    "  b = np.arange(n) ** 3\n",
    "  c = a + b\n",
    "  return c"
   ]
  },
  {
   "cell_type": "code",
   "execution_count": 11,
   "id": "e06de79e-d3ae-4bc4-af95-e4a7d86b5f51",
   "metadata": {},
   "outputs": [
    {
     "data": {
      "text/plain": [
       "array([ 0,  2, 12])"
      ]
     },
     "execution_count": 11,
     "metadata": {},
     "output_type": "execute_result"
    }
   ],
   "source": [
    "numpysum(3)"
   ]
  },
  {
   "cell_type": "code",
   "execution_count": null,
   "id": "ab78d847-0250-4cae-a774-9b65fb09bac8",
   "metadata": {},
   "outputs": [],
   "source": []
  }
 ],
 "metadata": {
  "kernelspec": {
   "display_name": "Python 3 (ipykernel)",
   "language": "python",
   "name": "python3"
  },
  "language_info": {
   "codemirror_mode": {
    "name": "ipython",
    "version": 3
   },
   "file_extension": ".py",
   "mimetype": "text/x-python",
   "name": "python",
   "nbconvert_exporter": "python",
   "pygments_lexer": "ipython3",
   "version": "3.11.9"
  }
 },
 "nbformat": 4,
 "nbformat_minor": 5
}
