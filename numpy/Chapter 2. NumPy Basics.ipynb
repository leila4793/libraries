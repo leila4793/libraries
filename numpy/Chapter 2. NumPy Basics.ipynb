{
 "cells": [
  {
   "cell_type": "markdown",
   "id": "fdeebce0-cf60-4b50-ad8b-8240c0a89b95",
   "metadata": {},
   "source": [
    "__contents:__\n",
    "\n",
    "1. [NumPy numerical types](#NumPyNumericalTypes)"
   ]
  },
  {
   "cell_type": "markdown",
   "id": "8d8efc62-0de5-46b3-8e77-bb0a6136c9f0",
   "metadata": {},
   "source": [
    "# <h2 style=\"color: blue;\"> 1.NumPy numerical types <a id='NumPyNumericalTypes'></a></h2>"
   ]
  },
  {
   "cell_type": "markdown",
   "id": "ecacb6e3-b290-4d19-9710-d09c94e99c11",
   "metadata": {},
   "source": [
    "<font color='#808080'>\n",
    "\n",
    "In Python we have lists that serve the purpose of arrays, but they are slow to process. NumPy aims to provide an array object that is up to 50x faster than\n",
    "traditional Python lists. The array object in NumPy is called ndarray, it provides a lot of\n",
    "supporting functions that make working with ndarray very easy. Arrays are very frequently used in data science, where speed and resources are very important.\n",
    "\n",
    "| Type         | Description                                                                                     |\n",
    "|--------------|-------------------------------------------------------------------------------------------------|\n",
    "| bool         | This stores boolean (True or False) as a bit                                                   |\n",
    "| inti         | This is a platform integer (normally either int32 or int64)                                    |\n",
    "| int8         | This is an integer ranging from $-128$ to $127$                                                    |\n",
    "| int16        | This is an integer ranging from $-32768$ to $32767$                                                |\n",
    "| int32        | This is an integer ranging from $-2 ^ {31}$ to $2 ^ {31} - 1$                                        |\n",
    "| int64        | This is an integer ranging from $-2 ^ {63}$ to $2 ^ {63} - 1$                                        |\n",
    "| uint8        | This is an unsigned integer ranging from $0$ to $255$                                              |\n",
    "| uint16       | This is an unsigned integer ranging from $0$ to $65535$                                            |\n",
    "| uint32       | This is an unsigned integer ranging from $0$ to $2 ^ {32} - 1$                                      |\n",
    "| uint64       | This is an unsigned integer ranging from $0$ to $2 ^ {64} - 1$                                      |\n",
    "| float16      | This is a half precision float with sign bit, $5$ bits exponent, and $10$ bits mantissa            |\n",
    "| float32      | This is a single precision float with sign bit, $8$ bits exponent, and $23$ bits mantissa          |\n",
    "| float64 or float | This is a double precision float with sign bit, $11$ bits exponent, and $52$ bits mantissa     |\n",
    "| complex64    | This is a complex number represented by two $32$-bit floats (real and imaginary components)      |\n",
    "| complex128 or complex | This is a complex number represented by two $64$-bit floats (real and imaginary components) |\n"
   ]
  },
  {
   "cell_type": "code",
   "execution_count": 13,
   "id": "dbc3d9f3-78ff-4ad3-a301-1783cae13d6a",
   "metadata": {},
   "outputs": [
    {
     "name": "stdout",
     "output_type": "stream",
     "text": [
      "float64 : 42.0\n",
      "int8 : 42\n",
      "bool 42 : True\n",
      "bool 0 : False\n",
      "bool 42.0 : True\n",
      "float(True) : 1.0\n",
      "float(False) : 0.0\n"
     ]
    }
   ],
   "source": [
    "import numpy as np\n",
    "print(f'float64 : {np.float64(42)}')\n",
    "print(f'int8 : {np.int8(42)}')\n",
    "print(f'bool 42 : {bool(42)}')\n",
    "print(f'bool 0 : {bool(0)}')\n",
    "print(f'bool 42.0 : {bool(42.0)}')\n",
    "print(f'float(True) : {float(True)}')\n",
    "print(f'float(False) : {float(False)}')"
   ]
  },
  {
   "cell_type": "code",
   "execution_count": null,
   "id": "0882e441-0e88-4dc7-bbb7-470ea1eefd36",
   "metadata": {},
   "outputs": [],
   "source": []
  }
 ],
 "metadata": {
  "kernelspec": {
   "display_name": "Python 3 (ipykernel)",
   "language": "python",
   "name": "python3"
  },
  "language_info": {
   "codemirror_mode": {
    "name": "ipython",
    "version": 3
   },
   "file_extension": ".py",
   "mimetype": "text/x-python",
   "name": "python",
   "nbconvert_exporter": "python",
   "pygments_lexer": "ipython3",
   "version": "3.11.9"
  }
 },
 "nbformat": 4,
 "nbformat_minor": 5
}
